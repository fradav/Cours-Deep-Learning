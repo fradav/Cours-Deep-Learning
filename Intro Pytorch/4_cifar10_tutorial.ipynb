{
 "cells": [
  {
   "cell_type": "markdown",
   "metadata": {
    "toc": true
   },
   "source": [
    "<h1>Table of Contents<span class=\"tocSkip\"></span></h1>\n",
    "<div class=\"toc\"><ul class=\"toc-item\"><li><span><a href=\"#Training-a-Classifier\" data-toc-modified-id=\"Training-a-Classifier-1\"><span class=\"toc-item-num\">1&nbsp;&nbsp;</span>Training a Classifier</a></span></li></ul></div>"
   ]
  },
  {
   "cell_type": "markdown",
   "metadata": {
    "slideshow": {
     "slide_type": "slide"
    }
   },
   "source": [
    "Training a Classifier\n",
    "=====================\n",
    "\n",
    "This is it. You have seen how to define neural networks, compute loss and make\n",
    "updates to the weights of the network.\n",
    "\n",
    "Now you might be thinking,"
   ]
  },
  {
   "cell_type": "markdown",
   "metadata": {
    "slideshow": {
     "slide_type": "slide"
    }
   },
   "source": [
    "What about data?\n",
    "----------------\n",
    "\n",
    "Generally, when you have to deal with image, text, audio or video data,\n",
    "you can use standard python packages that load data into a numpy array.\n",
    "Then you can convert this array into a ``torch.*Tensor``.\n",
    "\n",
    "-  For images, packages such as Pillow, OpenCV are useful\n",
    "-  For audio, packages such as scipy and librosa\n",
    "-  For text, either raw Python or Cython based loading, or NLTK and\n",
    "   SpaCy are useful"
   ]
  },
  {
   "cell_type": "markdown",
   "metadata": {
    "slideshow": {
     "slide_type": "subslide"
    }
   },
   "source": [
    "Specifically for vision, we have created a package called\n",
    "``torchvision``, that has data loaders for common datasets such as\n",
    "Imagenet, CIFAR10, MNIST, etc. and data transformers for images, viz.,\n",
    "``torchvision.datasets`` and ``torch.utils.data.DataLoader``.\n",
    "\n",
    "This provides a huge convenience and avoids writing boilerplate code."
   ]
  },
  {
   "cell_type": "markdown",
   "metadata": {
    "slideshow": {
     "slide_type": "subslide"
    }
   },
   "source": [
    "For this tutorial, we will use the CIFAR10 dataset.\n",
    "It has the classes: ‘airplane’, ‘automobile’, ‘bird’, ‘cat’, ‘deer’,\n",
    "‘dog’, ‘frog’, ‘horse’, ‘ship’, ‘truck’. The images in CIFAR-10 are of\n",
    "size 3x32x32, i.e. 3-channel color images of 32x32 pixels in size.\n",
    "\n",
    "![cifar10](../_static/img/cifar10.png)"
   ]
  },
  {
   "cell_type": "markdown",
   "metadata": {
    "slideshow": {
     "slide_type": "slide"
    }
   },
   "source": [
    "Training an image classifier\n",
    "----------------------------\n",
    "\n",
    "We will do the following steps in order:"
   ]
  },
  {
   "cell_type": "markdown",
   "metadata": {
    "slideshow": {
     "slide_type": "fragment"
    }
   },
   "source": [
    "1. Load and normalizing the CIFAR10 training and test datasets using\n",
    "   ``torchvision``"
   ]
  },
  {
   "cell_type": "markdown",
   "metadata": {
    "slideshow": {
     "slide_type": "fragment"
    }
   },
   "source": [
    "2. Define a Convolution Neural Network"
   ]
  },
  {
   "cell_type": "markdown",
   "metadata": {
    "slideshow": {
     "slide_type": "fragment"
    }
   },
   "source": [
    "3. Define a loss function"
   ]
  },
  {
   "cell_type": "markdown",
   "metadata": {
    "slideshow": {
     "slide_type": "fragment"
    }
   },
   "source": [
    "4. Train the network on the training data"
   ]
  },
  {
   "cell_type": "markdown",
   "metadata": {
    "slideshow": {
     "slide_type": "fragment"
    }
   },
   "source": [
    "5. Test the network on the test data"
   ]
  },
  {
   "cell_type": "markdown",
   "metadata": {
    "slideshow": {
     "slide_type": "slide"
    }
   },
   "source": [
    "1. Loading and normalizing CIFAR10\n",
    "^^^^^^^^^^^^^^^^^^^^^^^^^^^^^^^^^^\n",
    "\n",
    "Using ``torchvision``, it’s extremely easy to load CIFAR10."
   ]
  },
  {
   "cell_type": "code",
   "execution_count": 2,
   "metadata": {
    "slideshow": {
     "slide_type": "subslide"
    }
   },
   "outputs": [],
   "source": [
    "import torch\n",
    "import torchvision\n",
    "import torchvision.transforms as transforms\n",
    "\n",
    "%matplotlib notebook"
   ]
  },
  {
   "cell_type": "markdown",
   "metadata": {
    "slideshow": {
     "slide_type": "subslide"
    }
   },
   "source": [
    "The output of torchvision datasets are PILImage images of range [0, 1].\n",
    "We transform them to Tensors of normalized range [-1, 1].\n",
    "\n"
   ]
  },
  {
   "cell_type": "code",
   "execution_count": 6,
   "metadata": {
    "slideshow": {
     "slide_type": "fragment"
    }
   },
   "outputs": [
    {
     "name": "stdout",
     "output_type": "stream",
     "text": [
      "Files already downloaded and verified\n",
      "Files already downloaded and verified\n"
     ]
    }
   ],
   "source": [
    "transform = transforms.Compose(\n",
    "    [transforms.ToTensor(),\n",
    "     transforms.Normalize((0.5, 0.5, 0.5), (0.5, 0.5, 0.5))])\n",
    "\n",
    "trainset = torchvision.datasets.CIFAR10(root='./data', train=True,\n",
    "                                        download=True, transform=transform)\n",
    "trainloader = torch.utils.data.DataLoader(trainset, batch_size=4,\n",
    "                                          shuffle=True, num_workers=2)\n",
    "\n",
    "testset = torchvision.datasets.CIFAR10(root='./data', train=False,\n",
    "                                       download=True, transform=transform)\n",
    "testloader = torch.utils.data.DataLoader(testset, batch_size=4,\n",
    "                                         shuffle=False, num_workers=2)\n",
    "\n",
    "classes = ('plane', 'car', 'bird', 'cat',\n",
    "           'deer', 'dog', 'frog', 'horse', 'ship', 'truck')"
   ]
  },
  {
   "cell_type": "markdown",
   "metadata": {
    "slideshow": {
     "slide_type": "slide"
    }
   },
   "source": [
    "Let us show some of the training images, for fun.\n",
    "\n"
   ]
  },
  {
   "cell_type": "code",
   "execution_count": 7,
   "metadata": {
    "slideshow": {
     "slide_type": "fragment"
    }
   },
   "outputs": [],
   "source": [
    "import matplotlib.pyplot as plt\n",
    "import numpy as np\n",
    "\n",
    "# functions to show an image\n",
    "\n",
    "\n",
    "def imshow(img):\n",
    "    img = img / 2 + 0.5     # unnormalize\n",
    "    npimg = img.numpy()\n",
    "    plt.imshow(np.transpose(npimg, (1, 2, 0)))"
   ]
  },
  {
   "cell_type": "code",
   "execution_count": 8,
   "metadata": {
    "slideshow": {
     "slide_type": "subslide"
    }
   },
   "outputs": [
    {
     "name": "stdout",
     "output_type": "stream",
     "text": [
      "torch.Size([3, 32, 32])\n"
     ]
    },
    {
     "data": {
      "application/javascript": [
       "/* Put everything inside the global mpl namespace */\n",
       "window.mpl = {};\n",
       "\n",
       "\n",
       "mpl.get_websocket_type = function() {\n",
       "    if (typeof(WebSocket) !== 'undefined') {\n",
       "        return WebSocket;\n",
       "    } else if (typeof(MozWebSocket) !== 'undefined') {\n",
       "        return MozWebSocket;\n",
       "    } else {\n",
       "        alert('Your browser does not have WebSocket support. ' +\n",
       "              'Please try Chrome, Safari or Firefox ≥ 6. ' +\n",
       "              'Firefox 4 and 5 are also supported but you ' +\n",
       "              'have to enable WebSockets in about:config.');\n",
       "    };\n",
       "}\n",
       "\n",
       "mpl.figure = function(figure_id, websocket, ondownload, parent_element) {\n",
       "    this.id = figure_id;\n",
       "\n",
       "    this.ws = websocket;\n",
       "\n",
       "    this.supports_binary = (this.ws.binaryType != undefined);\n",
       "\n",
       "    if (!this.supports_binary) {\n",
       "        var warnings = document.getElementById(\"mpl-warnings\");\n",
       "        if (warnings) {\n",
       "            warnings.style.display = 'block';\n",
       "            warnings.textContent = (\n",
       "                \"This browser does not support binary websocket messages. \" +\n",
       "                    \"Performance may be slow.\");\n",
       "        }\n",
       "    }\n",
       "\n",
       "    this.imageObj = new Image();\n",
       "\n",
       "    this.context = undefined;\n",
       "    this.message = undefined;\n",
       "    this.canvas = undefined;\n",
       "    this.rubberband_canvas = undefined;\n",
       "    this.rubberband_context = undefined;\n",
       "    this.format_dropdown = undefined;\n",
       "\n",
       "    this.image_mode = 'full';\n",
       "\n",
       "    this.root = $('<div/>');\n",
       "    this._root_extra_style(this.root)\n",
       "    this.root.attr('style', 'display: inline-block');\n",
       "\n",
       "    $(parent_element).append(this.root);\n",
       "\n",
       "    this._init_header(this);\n",
       "    this._init_canvas(this);\n",
       "    this._init_toolbar(this);\n",
       "\n",
       "    var fig = this;\n",
       "\n",
       "    this.waiting = false;\n",
       "\n",
       "    this.ws.onopen =  function () {\n",
       "            fig.send_message(\"supports_binary\", {value: fig.supports_binary});\n",
       "            fig.send_message(\"send_image_mode\", {});\n",
       "            if (mpl.ratio != 1) {\n",
       "                fig.send_message(\"set_dpi_ratio\", {'dpi_ratio': mpl.ratio});\n",
       "            }\n",
       "            fig.send_message(\"refresh\", {});\n",
       "        }\n",
       "\n",
       "    this.imageObj.onload = function() {\n",
       "            if (fig.image_mode == 'full') {\n",
       "                // Full images could contain transparency (where diff images\n",
       "                // almost always do), so we need to clear the canvas so that\n",
       "                // there is no ghosting.\n",
       "                fig.context.clearRect(0, 0, fig.canvas.width, fig.canvas.height);\n",
       "            }\n",
       "            fig.context.drawImage(fig.imageObj, 0, 0);\n",
       "        };\n",
       "\n",
       "    this.imageObj.onunload = function() {\n",
       "        fig.ws.close();\n",
       "    }\n",
       "\n",
       "    this.ws.onmessage = this._make_on_message_function(this);\n",
       "\n",
       "    this.ondownload = ondownload;\n",
       "}\n",
       "\n",
       "mpl.figure.prototype._init_header = function() {\n",
       "    var titlebar = $(\n",
       "        '<div class=\"ui-dialog-titlebar ui-widget-header ui-corner-all ' +\n",
       "        'ui-helper-clearfix\"/>');\n",
       "    var titletext = $(\n",
       "        '<div class=\"ui-dialog-title\" style=\"width: 100%; ' +\n",
       "        'text-align: center; padding: 3px;\"/>');\n",
       "    titlebar.append(titletext)\n",
       "    this.root.append(titlebar);\n",
       "    this.header = titletext[0];\n",
       "}\n",
       "\n",
       "\n",
       "\n",
       "mpl.figure.prototype._canvas_extra_style = function(canvas_div) {\n",
       "\n",
       "}\n",
       "\n",
       "\n",
       "mpl.figure.prototype._root_extra_style = function(canvas_div) {\n",
       "\n",
       "}\n",
       "\n",
       "mpl.figure.prototype._init_canvas = function() {\n",
       "    var fig = this;\n",
       "\n",
       "    var canvas_div = $('<div/>');\n",
       "\n",
       "    canvas_div.attr('style', 'position: relative; clear: both; outline: 0');\n",
       "\n",
       "    function canvas_keyboard_event(event) {\n",
       "        return fig.key_event(event, event['data']);\n",
       "    }\n",
       "\n",
       "    canvas_div.keydown('key_press', canvas_keyboard_event);\n",
       "    canvas_div.keyup('key_release', canvas_keyboard_event);\n",
       "    this.canvas_div = canvas_div\n",
       "    this._canvas_extra_style(canvas_div)\n",
       "    this.root.append(canvas_div);\n",
       "\n",
       "    var canvas = $('<canvas/>');\n",
       "    canvas.addClass('mpl-canvas');\n",
       "    canvas.attr('style', \"left: 0; top: 0; z-index: 0; outline: 0\")\n",
       "\n",
       "    this.canvas = canvas[0];\n",
       "    this.context = canvas[0].getContext(\"2d\");\n",
       "\n",
       "    var backingStore = this.context.backingStorePixelRatio ||\n",
       "\tthis.context.webkitBackingStorePixelRatio ||\n",
       "\tthis.context.mozBackingStorePixelRatio ||\n",
       "\tthis.context.msBackingStorePixelRatio ||\n",
       "\tthis.context.oBackingStorePixelRatio ||\n",
       "\tthis.context.backingStorePixelRatio || 1;\n",
       "\n",
       "    mpl.ratio = (window.devicePixelRatio || 1) / backingStore;\n",
       "\n",
       "    var rubberband = $('<canvas/>');\n",
       "    rubberband.attr('style', \"position: absolute; left: 0; top: 0; z-index: 1;\")\n",
       "\n",
       "    var pass_mouse_events = true;\n",
       "\n",
       "    canvas_div.resizable({\n",
       "        start: function(event, ui) {\n",
       "            pass_mouse_events = false;\n",
       "        },\n",
       "        resize: function(event, ui) {\n",
       "            fig.request_resize(ui.size.width, ui.size.height);\n",
       "        },\n",
       "        stop: function(event, ui) {\n",
       "            pass_mouse_events = true;\n",
       "            fig.request_resize(ui.size.width, ui.size.height);\n",
       "        },\n",
       "    });\n",
       "\n",
       "    function mouse_event_fn(event) {\n",
       "        if (pass_mouse_events)\n",
       "            return fig.mouse_event(event, event['data']);\n",
       "    }\n",
       "\n",
       "    rubberband.mousedown('button_press', mouse_event_fn);\n",
       "    rubberband.mouseup('button_release', mouse_event_fn);\n",
       "    // Throttle sequential mouse events to 1 every 20ms.\n",
       "    rubberband.mousemove('motion_notify', mouse_event_fn);\n",
       "\n",
       "    rubberband.mouseenter('figure_enter', mouse_event_fn);\n",
       "    rubberband.mouseleave('figure_leave', mouse_event_fn);\n",
       "\n",
       "    canvas_div.on(\"wheel\", function (event) {\n",
       "        event = event.originalEvent;\n",
       "        event['data'] = 'scroll'\n",
       "        if (event.deltaY < 0) {\n",
       "            event.step = 1;\n",
       "        } else {\n",
       "            event.step = -1;\n",
       "        }\n",
       "        mouse_event_fn(event);\n",
       "    });\n",
       "\n",
       "    canvas_div.append(canvas);\n",
       "    canvas_div.append(rubberband);\n",
       "\n",
       "    this.rubberband = rubberband;\n",
       "    this.rubberband_canvas = rubberband[0];\n",
       "    this.rubberband_context = rubberband[0].getContext(\"2d\");\n",
       "    this.rubberband_context.strokeStyle = \"#000000\";\n",
       "\n",
       "    this._resize_canvas = function(width, height) {\n",
       "        // Keep the size of the canvas, canvas container, and rubber band\n",
       "        // canvas in synch.\n",
       "        canvas_div.css('width', width)\n",
       "        canvas_div.css('height', height)\n",
       "\n",
       "        canvas.attr('width', width * mpl.ratio);\n",
       "        canvas.attr('height', height * mpl.ratio);\n",
       "        canvas.attr('style', 'width: ' + width + 'px; height: ' + height + 'px;');\n",
       "\n",
       "        rubberband.attr('width', width);\n",
       "        rubberband.attr('height', height);\n",
       "    }\n",
       "\n",
       "    // Set the figure to an initial 600x600px, this will subsequently be updated\n",
       "    // upon first draw.\n",
       "    this._resize_canvas(600, 600);\n",
       "\n",
       "    // Disable right mouse context menu.\n",
       "    $(this.rubberband_canvas).bind(\"contextmenu\",function(e){\n",
       "        return false;\n",
       "    });\n",
       "\n",
       "    function set_focus () {\n",
       "        canvas.focus();\n",
       "        canvas_div.focus();\n",
       "    }\n",
       "\n",
       "    window.setTimeout(set_focus, 100);\n",
       "}\n",
       "\n",
       "mpl.figure.prototype._init_toolbar = function() {\n",
       "    var fig = this;\n",
       "\n",
       "    var nav_element = $('<div/>');\n",
       "    nav_element.attr('style', 'width: 100%');\n",
       "    this.root.append(nav_element);\n",
       "\n",
       "    // Define a callback function for later on.\n",
       "    function toolbar_event(event) {\n",
       "        return fig.toolbar_button_onclick(event['data']);\n",
       "    }\n",
       "    function toolbar_mouse_event(event) {\n",
       "        return fig.toolbar_button_onmouseover(event['data']);\n",
       "    }\n",
       "\n",
       "    for(var toolbar_ind in mpl.toolbar_items) {\n",
       "        var name = mpl.toolbar_items[toolbar_ind][0];\n",
       "        var tooltip = mpl.toolbar_items[toolbar_ind][1];\n",
       "        var image = mpl.toolbar_items[toolbar_ind][2];\n",
       "        var method_name = mpl.toolbar_items[toolbar_ind][3];\n",
       "\n",
       "        if (!name) {\n",
       "            // put a spacer in here.\n",
       "            continue;\n",
       "        }\n",
       "        var button = $('<button/>');\n",
       "        button.addClass('ui-button ui-widget ui-state-default ui-corner-all ' +\n",
       "                        'ui-button-icon-only');\n",
       "        button.attr('role', 'button');\n",
       "        button.attr('aria-disabled', 'false');\n",
       "        button.click(method_name, toolbar_event);\n",
       "        button.mouseover(tooltip, toolbar_mouse_event);\n",
       "\n",
       "        var icon_img = $('<span/>');\n",
       "        icon_img.addClass('ui-button-icon-primary ui-icon');\n",
       "        icon_img.addClass(image);\n",
       "        icon_img.addClass('ui-corner-all');\n",
       "\n",
       "        var tooltip_span = $('<span/>');\n",
       "        tooltip_span.addClass('ui-button-text');\n",
       "        tooltip_span.html(tooltip);\n",
       "\n",
       "        button.append(icon_img);\n",
       "        button.append(tooltip_span);\n",
       "\n",
       "        nav_element.append(button);\n",
       "    }\n",
       "\n",
       "    var fmt_picker_span = $('<span/>');\n",
       "\n",
       "    var fmt_picker = $('<select/>');\n",
       "    fmt_picker.addClass('mpl-toolbar-option ui-widget ui-widget-content');\n",
       "    fmt_picker_span.append(fmt_picker);\n",
       "    nav_element.append(fmt_picker_span);\n",
       "    this.format_dropdown = fmt_picker[0];\n",
       "\n",
       "    for (var ind in mpl.extensions) {\n",
       "        var fmt = mpl.extensions[ind];\n",
       "        var option = $(\n",
       "            '<option/>', {selected: fmt === mpl.default_extension}).html(fmt);\n",
       "        fmt_picker.append(option);\n",
       "    }\n",
       "\n",
       "    // Add hover states to the ui-buttons\n",
       "    $( \".ui-button\" ).hover(\n",
       "        function() { $(this).addClass(\"ui-state-hover\");},\n",
       "        function() { $(this).removeClass(\"ui-state-hover\");}\n",
       "    );\n",
       "\n",
       "    var status_bar = $('<span class=\"mpl-message\"/>');\n",
       "    nav_element.append(status_bar);\n",
       "    this.message = status_bar[0];\n",
       "}\n",
       "\n",
       "mpl.figure.prototype.request_resize = function(x_pixels, y_pixels) {\n",
       "    // Request matplotlib to resize the figure. Matplotlib will then trigger a resize in the client,\n",
       "    // which will in turn request a refresh of the image.\n",
       "    this.send_message('resize', {'width': x_pixels, 'height': y_pixels});\n",
       "}\n",
       "\n",
       "mpl.figure.prototype.send_message = function(type, properties) {\n",
       "    properties['type'] = type;\n",
       "    properties['figure_id'] = this.id;\n",
       "    this.ws.send(JSON.stringify(properties));\n",
       "}\n",
       "\n",
       "mpl.figure.prototype.send_draw_message = function() {\n",
       "    if (!this.waiting) {\n",
       "        this.waiting = true;\n",
       "        this.ws.send(JSON.stringify({type: \"draw\", figure_id: this.id}));\n",
       "    }\n",
       "}\n",
       "\n",
       "\n",
       "mpl.figure.prototype.handle_save = function(fig, msg) {\n",
       "    var format_dropdown = fig.format_dropdown;\n",
       "    var format = format_dropdown.options[format_dropdown.selectedIndex].value;\n",
       "    fig.ondownload(fig, format);\n",
       "}\n",
       "\n",
       "\n",
       "mpl.figure.prototype.handle_resize = function(fig, msg) {\n",
       "    var size = msg['size'];\n",
       "    if (size[0] != fig.canvas.width || size[1] != fig.canvas.height) {\n",
       "        fig._resize_canvas(size[0], size[1]);\n",
       "        fig.send_message(\"refresh\", {});\n",
       "    };\n",
       "}\n",
       "\n",
       "mpl.figure.prototype.handle_rubberband = function(fig, msg) {\n",
       "    var x0 = msg['x0'] / mpl.ratio;\n",
       "    var y0 = (fig.canvas.height - msg['y0']) / mpl.ratio;\n",
       "    var x1 = msg['x1'] / mpl.ratio;\n",
       "    var y1 = (fig.canvas.height - msg['y1']) / mpl.ratio;\n",
       "    x0 = Math.floor(x0) + 0.5;\n",
       "    y0 = Math.floor(y0) + 0.5;\n",
       "    x1 = Math.floor(x1) + 0.5;\n",
       "    y1 = Math.floor(y1) + 0.5;\n",
       "    var min_x = Math.min(x0, x1);\n",
       "    var min_y = Math.min(y0, y1);\n",
       "    var width = Math.abs(x1 - x0);\n",
       "    var height = Math.abs(y1 - y0);\n",
       "\n",
       "    fig.rubberband_context.clearRect(\n",
       "        0, 0, fig.canvas.width / mpl.ratio, fig.canvas.height / mpl.ratio);\n",
       "\n",
       "    fig.rubberband_context.strokeRect(min_x, min_y, width, height);\n",
       "}\n",
       "\n",
       "mpl.figure.prototype.handle_figure_label = function(fig, msg) {\n",
       "    // Updates the figure title.\n",
       "    fig.header.textContent = msg['label'];\n",
       "}\n",
       "\n",
       "mpl.figure.prototype.handle_cursor = function(fig, msg) {\n",
       "    var cursor = msg['cursor'];\n",
       "    switch(cursor)\n",
       "    {\n",
       "    case 0:\n",
       "        cursor = 'pointer';\n",
       "        break;\n",
       "    case 1:\n",
       "        cursor = 'default';\n",
       "        break;\n",
       "    case 2:\n",
       "        cursor = 'crosshair';\n",
       "        break;\n",
       "    case 3:\n",
       "        cursor = 'move';\n",
       "        break;\n",
       "    }\n",
       "    fig.rubberband_canvas.style.cursor = cursor;\n",
       "}\n",
       "\n",
       "mpl.figure.prototype.handle_message = function(fig, msg) {\n",
       "    fig.message.textContent = msg['message'];\n",
       "}\n",
       "\n",
       "mpl.figure.prototype.handle_draw = function(fig, msg) {\n",
       "    // Request the server to send over a new figure.\n",
       "    fig.send_draw_message();\n",
       "}\n",
       "\n",
       "mpl.figure.prototype.handle_image_mode = function(fig, msg) {\n",
       "    fig.image_mode = msg['mode'];\n",
       "}\n",
       "\n",
       "mpl.figure.prototype.updated_canvas_event = function() {\n",
       "    // Called whenever the canvas gets updated.\n",
       "    this.send_message(\"ack\", {});\n",
       "}\n",
       "\n",
       "// A function to construct a web socket function for onmessage handling.\n",
       "// Called in the figure constructor.\n",
       "mpl.figure.prototype._make_on_message_function = function(fig) {\n",
       "    return function socket_on_message(evt) {\n",
       "        if (evt.data instanceof Blob) {\n",
       "            /* FIXME: We get \"Resource interpreted as Image but\n",
       "             * transferred with MIME type text/plain:\" errors on\n",
       "             * Chrome.  But how to set the MIME type?  It doesn't seem\n",
       "             * to be part of the websocket stream */\n",
       "            evt.data.type = \"image/png\";\n",
       "\n",
       "            /* Free the memory for the previous frames */\n",
       "            if (fig.imageObj.src) {\n",
       "                (window.URL || window.webkitURL).revokeObjectURL(\n",
       "                    fig.imageObj.src);\n",
       "            }\n",
       "\n",
       "            fig.imageObj.src = (window.URL || window.webkitURL).createObjectURL(\n",
       "                evt.data);\n",
       "            fig.updated_canvas_event();\n",
       "            fig.waiting = false;\n",
       "            return;\n",
       "        }\n",
       "        else if (typeof evt.data === 'string' && evt.data.slice(0, 21) == \"data:image/png;base64\") {\n",
       "            fig.imageObj.src = evt.data;\n",
       "            fig.updated_canvas_event();\n",
       "            fig.waiting = false;\n",
       "            return;\n",
       "        }\n",
       "\n",
       "        var msg = JSON.parse(evt.data);\n",
       "        var msg_type = msg['type'];\n",
       "\n",
       "        // Call the  \"handle_{type}\" callback, which takes\n",
       "        // the figure and JSON message as its only arguments.\n",
       "        try {\n",
       "            var callback = fig[\"handle_\" + msg_type];\n",
       "        } catch (e) {\n",
       "            console.log(\"No handler for the '\" + msg_type + \"' message type: \", msg);\n",
       "            return;\n",
       "        }\n",
       "\n",
       "        if (callback) {\n",
       "            try {\n",
       "                // console.log(\"Handling '\" + msg_type + \"' message: \", msg);\n",
       "                callback(fig, msg);\n",
       "            } catch (e) {\n",
       "                console.log(\"Exception inside the 'handler_\" + msg_type + \"' callback:\", e, e.stack, msg);\n",
       "            }\n",
       "        }\n",
       "    };\n",
       "}\n",
       "\n",
       "// from http://stackoverflow.com/questions/1114465/getting-mouse-location-in-canvas\n",
       "mpl.findpos = function(e) {\n",
       "    //this section is from http://www.quirksmode.org/js/events_properties.html\n",
       "    var targ;\n",
       "    if (!e)\n",
       "        e = window.event;\n",
       "    if (e.target)\n",
       "        targ = e.target;\n",
       "    else if (e.srcElement)\n",
       "        targ = e.srcElement;\n",
       "    if (targ.nodeType == 3) // defeat Safari bug\n",
       "        targ = targ.parentNode;\n",
       "\n",
       "    // jQuery normalizes the pageX and pageY\n",
       "    // pageX,Y are the mouse positions relative to the document\n",
       "    // offset() returns the position of the element relative to the document\n",
       "    var x = e.pageX - $(targ).offset().left;\n",
       "    var y = e.pageY - $(targ).offset().top;\n",
       "\n",
       "    return {\"x\": x, \"y\": y};\n",
       "};\n",
       "\n",
       "/*\n",
       " * return a copy of an object with only non-object keys\n",
       " * we need this to avoid circular references\n",
       " * http://stackoverflow.com/a/24161582/3208463\n",
       " */\n",
       "function simpleKeys (original) {\n",
       "  return Object.keys(original).reduce(function (obj, key) {\n",
       "    if (typeof original[key] !== 'object')\n",
       "        obj[key] = original[key]\n",
       "    return obj;\n",
       "  }, {});\n",
       "}\n",
       "\n",
       "mpl.figure.prototype.mouse_event = function(event, name) {\n",
       "    var canvas_pos = mpl.findpos(event)\n",
       "\n",
       "    if (name === 'button_press')\n",
       "    {\n",
       "        this.canvas.focus();\n",
       "        this.canvas_div.focus();\n",
       "    }\n",
       "\n",
       "    var x = canvas_pos.x * mpl.ratio;\n",
       "    var y = canvas_pos.y * mpl.ratio;\n",
       "\n",
       "    this.send_message(name, {x: x, y: y, button: event.button,\n",
       "                             step: event.step,\n",
       "                             guiEvent: simpleKeys(event)});\n",
       "\n",
       "    /* This prevents the web browser from automatically changing to\n",
       "     * the text insertion cursor when the button is pressed.  We want\n",
       "     * to control all of the cursor setting manually through the\n",
       "     * 'cursor' event from matplotlib */\n",
       "    event.preventDefault();\n",
       "    return false;\n",
       "}\n",
       "\n",
       "mpl.figure.prototype._key_event_extra = function(event, name) {\n",
       "    // Handle any extra behaviour associated with a key event\n",
       "}\n",
       "\n",
       "mpl.figure.prototype.key_event = function(event, name) {\n",
       "\n",
       "    // Prevent repeat events\n",
       "    if (name == 'key_press')\n",
       "    {\n",
       "        if (event.which === this._key)\n",
       "            return;\n",
       "        else\n",
       "            this._key = event.which;\n",
       "    }\n",
       "    if (name == 'key_release')\n",
       "        this._key = null;\n",
       "\n",
       "    var value = '';\n",
       "    if (event.ctrlKey && event.which != 17)\n",
       "        value += \"ctrl+\";\n",
       "    if (event.altKey && event.which != 18)\n",
       "        value += \"alt+\";\n",
       "    if (event.shiftKey && event.which != 16)\n",
       "        value += \"shift+\";\n",
       "\n",
       "    value += 'k';\n",
       "    value += event.which.toString();\n",
       "\n",
       "    this._key_event_extra(event, name);\n",
       "\n",
       "    this.send_message(name, {key: value,\n",
       "                             guiEvent: simpleKeys(event)});\n",
       "    return false;\n",
       "}\n",
       "\n",
       "mpl.figure.prototype.toolbar_button_onclick = function(name) {\n",
       "    if (name == 'download') {\n",
       "        this.handle_save(this, null);\n",
       "    } else {\n",
       "        this.send_message(\"toolbar_button\", {name: name});\n",
       "    }\n",
       "};\n",
       "\n",
       "mpl.figure.prototype.toolbar_button_onmouseover = function(tooltip) {\n",
       "    this.message.textContent = tooltip;\n",
       "};\n",
       "mpl.toolbar_items = [[\"Home\", \"Reset original view\", \"fa fa-home icon-home\", \"home\"], [\"Back\", \"Back to previous view\", \"fa fa-arrow-left icon-arrow-left\", \"back\"], [\"Forward\", \"Forward to next view\", \"fa fa-arrow-right icon-arrow-right\", \"forward\"], [\"\", \"\", \"\", \"\"], [\"Pan\", \"Pan axes with left mouse, zoom with right\", \"fa fa-arrows icon-move\", \"pan\"], [\"Zoom\", \"Zoom to rectangle\", \"fa fa-square-o icon-check-empty\", \"zoom\"], [\"\", \"\", \"\", \"\"], [\"Download\", \"Download plot\", \"fa fa-floppy-o icon-save\", \"download\"]];\n",
       "\n",
       "mpl.extensions = [\"eps\", \"pdf\", \"png\", \"ps\", \"raw\", \"svg\"];\n",
       "\n",
       "mpl.default_extension = \"png\";var comm_websocket_adapter = function(comm) {\n",
       "    // Create a \"websocket\"-like object which calls the given IPython comm\n",
       "    // object with the appropriate methods. Currently this is a non binary\n",
       "    // socket, so there is still some room for performance tuning.\n",
       "    var ws = {};\n",
       "\n",
       "    ws.close = function() {\n",
       "        comm.close()\n",
       "    };\n",
       "    ws.send = function(m) {\n",
       "        //console.log('sending', m);\n",
       "        comm.send(m);\n",
       "    };\n",
       "    // Register the callback with on_msg.\n",
       "    comm.on_msg(function(msg) {\n",
       "        //console.log('receiving', msg['content']['data'], msg);\n",
       "        // Pass the mpl event to the overridden (by mpl) onmessage function.\n",
       "        ws.onmessage(msg['content']['data'])\n",
       "    });\n",
       "    return ws;\n",
       "}\n",
       "\n",
       "mpl.mpl_figure_comm = function(comm, msg) {\n",
       "    // This is the function which gets called when the mpl process\n",
       "    // starts-up an IPython Comm through the \"matplotlib\" channel.\n",
       "\n",
       "    var id = msg.content.data.id;\n",
       "    // Get hold of the div created by the display call when the Comm\n",
       "    // socket was opened in Python.\n",
       "    var element = $(\"#\" + id);\n",
       "    var ws_proxy = comm_websocket_adapter(comm)\n",
       "\n",
       "    function ondownload(figure, format) {\n",
       "        window.open(figure.imageObj.src);\n",
       "    }\n",
       "\n",
       "    var fig = new mpl.figure(id, ws_proxy,\n",
       "                           ondownload,\n",
       "                           element.get(0));\n",
       "\n",
       "    // Call onopen now - mpl needs it, as it is assuming we've passed it a real\n",
       "    // web socket which is closed, not our websocket->open comm proxy.\n",
       "    ws_proxy.onopen();\n",
       "\n",
       "    fig.parent_element = element.get(0);\n",
       "    fig.cell_info = mpl.find_output_cell(\"<div id='\" + id + \"'></div>\");\n",
       "    if (!fig.cell_info) {\n",
       "        console.error(\"Failed to find cell for figure\", id, fig);\n",
       "        return;\n",
       "    }\n",
       "\n",
       "    var output_index = fig.cell_info[2]\n",
       "    var cell = fig.cell_info[0];\n",
       "\n",
       "};\n",
       "\n",
       "mpl.figure.prototype.handle_close = function(fig, msg) {\n",
       "    var width = fig.canvas.width/mpl.ratio\n",
       "    fig.root.unbind('remove')\n",
       "\n",
       "    // Update the output cell to use the data from the current canvas.\n",
       "    fig.push_to_output();\n",
       "    var dataURL = fig.canvas.toDataURL();\n",
       "    // Re-enable the keyboard manager in IPython - without this line, in FF,\n",
       "    // the notebook keyboard shortcuts fail.\n",
       "    IPython.keyboard_manager.enable()\n",
       "    $(fig.parent_element).html('<img src=\"' + dataURL + '\" width=\"' + width + '\">');\n",
       "    fig.close_ws(fig, msg);\n",
       "}\n",
       "\n",
       "mpl.figure.prototype.close_ws = function(fig, msg){\n",
       "    fig.send_message('closing', msg);\n",
       "    // fig.ws.close()\n",
       "}\n",
       "\n",
       "mpl.figure.prototype.push_to_output = function(remove_interactive) {\n",
       "    // Turn the data on the canvas into data in the output cell.\n",
       "    var width = this.canvas.width/mpl.ratio\n",
       "    var dataURL = this.canvas.toDataURL();\n",
       "    this.cell_info[1]['text/html'] = '<img src=\"' + dataURL + '\" width=\"' + width + '\">';\n",
       "}\n",
       "\n",
       "mpl.figure.prototype.updated_canvas_event = function() {\n",
       "    // Tell IPython that the notebook contents must change.\n",
       "    IPython.notebook.set_dirty(true);\n",
       "    this.send_message(\"ack\", {});\n",
       "    var fig = this;\n",
       "    // Wait a second, then push the new image to the DOM so\n",
       "    // that it is saved nicely (might be nice to debounce this).\n",
       "    setTimeout(function () { fig.push_to_output() }, 1000);\n",
       "}\n",
       "\n",
       "mpl.figure.prototype._init_toolbar = function() {\n",
       "    var fig = this;\n",
       "\n",
       "    var nav_element = $('<div/>');\n",
       "    nav_element.attr('style', 'width: 100%');\n",
       "    this.root.append(nav_element);\n",
       "\n",
       "    // Define a callback function for later on.\n",
       "    function toolbar_event(event) {\n",
       "        return fig.toolbar_button_onclick(event['data']);\n",
       "    }\n",
       "    function toolbar_mouse_event(event) {\n",
       "        return fig.toolbar_button_onmouseover(event['data']);\n",
       "    }\n",
       "\n",
       "    for(var toolbar_ind in mpl.toolbar_items){\n",
       "        var name = mpl.toolbar_items[toolbar_ind][0];\n",
       "        var tooltip = mpl.toolbar_items[toolbar_ind][1];\n",
       "        var image = mpl.toolbar_items[toolbar_ind][2];\n",
       "        var method_name = mpl.toolbar_items[toolbar_ind][3];\n",
       "\n",
       "        if (!name) { continue; };\n",
       "\n",
       "        var button = $('<button class=\"btn btn-default\" href=\"#\" title=\"' + name + '\"><i class=\"fa ' + image + ' fa-lg\"></i></button>');\n",
       "        button.click(method_name, toolbar_event);\n",
       "        button.mouseover(tooltip, toolbar_mouse_event);\n",
       "        nav_element.append(button);\n",
       "    }\n",
       "\n",
       "    // Add the status bar.\n",
       "    var status_bar = $('<span class=\"mpl-message\" style=\"text-align:right; float: right;\"/>');\n",
       "    nav_element.append(status_bar);\n",
       "    this.message = status_bar[0];\n",
       "\n",
       "    // Add the close button to the window.\n",
       "    var buttongrp = $('<div class=\"btn-group inline pull-right\"></div>');\n",
       "    var button = $('<button class=\"btn btn-mini btn-primary\" href=\"#\" title=\"Stop Interaction\"><i class=\"fa fa-power-off icon-remove icon-large\"></i></button>');\n",
       "    button.click(function (evt) { fig.handle_close(fig, {}); } );\n",
       "    button.mouseover('Stop Interaction', toolbar_mouse_event);\n",
       "    buttongrp.append(button);\n",
       "    var titlebar = this.root.find($('.ui-dialog-titlebar'));\n",
       "    titlebar.prepend(buttongrp);\n",
       "}\n",
       "\n",
       "mpl.figure.prototype._root_extra_style = function(el){\n",
       "    var fig = this\n",
       "    el.on(\"remove\", function(){\n",
       "\tfig.close_ws(fig, {});\n",
       "    });\n",
       "}\n",
       "\n",
       "mpl.figure.prototype._canvas_extra_style = function(el){\n",
       "    // this is important to make the div 'focusable\n",
       "    el.attr('tabindex', 0)\n",
       "    // reach out to IPython and tell the keyboard manager to turn it's self\n",
       "    // off when our div gets focus\n",
       "\n",
       "    // location in version 3\n",
       "    if (IPython.notebook.keyboard_manager) {\n",
       "        IPython.notebook.keyboard_manager.register_events(el);\n",
       "    }\n",
       "    else {\n",
       "        // location in version 2\n",
       "        IPython.keyboard_manager.register_events(el);\n",
       "    }\n",
       "\n",
       "}\n",
       "\n",
       "mpl.figure.prototype._key_event_extra = function(event, name) {\n",
       "    var manager = IPython.notebook.keyboard_manager;\n",
       "    if (!manager)\n",
       "        manager = IPython.keyboard_manager;\n",
       "\n",
       "    // Check for shift+enter\n",
       "    if (event.shiftKey && event.which == 13) {\n",
       "        this.canvas_div.blur();\n",
       "        event.shiftKey = false;\n",
       "        // Send a \"J\" for go to next cell\n",
       "        event.which = 74;\n",
       "        event.keyCode = 74;\n",
       "        manager.command_mode();\n",
       "        manager.handle_keydown(event);\n",
       "    }\n",
       "}\n",
       "\n",
       "mpl.figure.prototype.handle_save = function(fig, msg) {\n",
       "    fig.ondownload(fig, null);\n",
       "}\n",
       "\n",
       "\n",
       "mpl.find_output_cell = function(html_output) {\n",
       "    // Return the cell and output element which can be found *uniquely* in the notebook.\n",
       "    // Note - this is a bit hacky, but it is done because the \"notebook_saving.Notebook\"\n",
       "    // IPython event is triggered only after the cells have been serialised, which for\n",
       "    // our purposes (turning an active figure into a static one), is too late.\n",
       "    var cells = IPython.notebook.get_cells();\n",
       "    var ncells = cells.length;\n",
       "    for (var i=0; i<ncells; i++) {\n",
       "        var cell = cells[i];\n",
       "        if (cell.cell_type === 'code'){\n",
       "            for (var j=0; j<cell.output_area.outputs.length; j++) {\n",
       "                var data = cell.output_area.outputs[j];\n",
       "                if (data.data) {\n",
       "                    // IPython >= 3 moved mimebundle to data attribute of output\n",
       "                    data = data.data;\n",
       "                }\n",
       "                if (data['text/html'] == html_output) {\n",
       "                    return [cell, data, j];\n",
       "                }\n",
       "            }\n",
       "        }\n",
       "    }\n",
       "}\n",
       "\n",
       "// Register the function which deals with the matplotlib target/channel.\n",
       "// The kernel may be null if the page has been refreshed.\n",
       "if (IPython.notebook.kernel != null) {\n",
       "    IPython.notebook.kernel.comm_manager.register_target('matplotlib', mpl.mpl_figure_comm);\n",
       "}\n"
      ],
      "text/plain": [
       "<IPython.core.display.Javascript object>"
      ]
     },
     "metadata": {},
     "output_type": "display_data"
    },
    {
     "data": {
      "text/html": [
       "<img src=\"data:image/png;base64,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\" width=\"640\">"
      ],
      "text/plain": [
       "<IPython.core.display.HTML object>"
      ]
     },
     "metadata": {},
     "output_type": "display_data"
    },
    {
     "name": "stdout",
     "output_type": "stream",
     "text": [
      "  car truck  deer   dog\n"
     ]
    }
   ],
   "source": [
    "# get some random training images\n",
    "dataiter = iter(trainloader)\n",
    "images, labels = dataiter.next()\n",
    "print(images[0].size())\n",
    "# show images\n",
    "imshow(torchvision.utils.make_grid(images))\n",
    "# print labels\n",
    "print(' '.join('%5s' % classes[labels[j]] for j in range(4)))"
   ]
  },
  {
   "cell_type": "markdown",
   "metadata": {
    "slideshow": {
     "slide_type": "slide"
    }
   },
   "source": [
    "2. Define a Convolution Neural Network\n",
    "^^^^^^^^^^^^^^^^^^^^^^^^^^^^^^^^^^^^^^\n",
    "Copy the neural network from the Neural Networks section before and modify it to\n",
    "take 3-channel images (instead of 1-channel images as it was defined).\n",
    "\n"
   ]
  },
  {
   "cell_type": "code",
   "execution_count": 6,
   "metadata": {
    "slideshow": {
     "slide_type": "subslide"
    }
   },
   "outputs": [],
   "source": [
    "import torch.nn as nn\n",
    "import torch.nn.functional as F\n",
    "\n",
    "\n",
    "class Net(nn.Module):\n",
    "    def __init__(self):\n",
    "        super(Net, self).__init__()\n",
    "        self.conv1 = nn.Conv2d(3, 6, 5)\n",
    "        self.pool = nn.MaxPool2d(2, 2)\n",
    "        self.conv2 = nn.Conv2d(6, 16, 5)\n",
    "        self.fc1 = nn.Linear(16 * 5 * 5, 120)\n",
    "        self.fc2 = nn.Linear(120, 84)\n",
    "        self.fc3 = nn.Linear(84, 10)\n",
    "\n",
    "    def forward(self, x):\n",
    "        x = self.pool(F.relu(self.conv1(x)))\n",
    "        x = self.pool(F.relu(self.conv2(x)))\n",
    "        x = x.view(-1, 16 * 5 * 5)\n",
    "        x = F.relu(self.fc1(x))\n",
    "        x = F.relu(self.fc2(x))\n",
    "        x = self.fc3(x)\n",
    "        return x\n",
    "\n",
    "\n",
    "net = Net()"
   ]
  },
  {
   "cell_type": "markdown",
   "metadata": {
    "slideshow": {
     "slide_type": "slide"
    }
   },
   "source": [
    "3. Define a Loss function and optimizer\n",
    "^^^^^^^^^^^^^^^^^^^^^^^^^^^^^^^^^^^^^^^\n",
    "Let's use a Classification Cross-Entropy loss and SGD with momentum.\n",
    "\n"
   ]
  },
  {
   "cell_type": "code",
   "execution_count": 10,
   "metadata": {
    "slideshow": {
     "slide_type": "subslide"
    }
   },
   "outputs": [],
   "source": [
    "import torch.optim as optim\n",
    "\n",
    "criterion = nn.CrossEntropyLoss()\n",
    "optimizer = optim.SGD(net.parameters(), lr=0.001, momentum=0.9)"
   ]
  },
  {
   "cell_type": "markdown",
   "metadata": {
    "slideshow": {
     "slide_type": "slide"
    }
   },
   "source": [
    "4. Train the network\n",
    "^^^^^^^^^^^^^^^^^^^^\n",
    "\n",
    "This is when things start to get interesting.\n",
    "We simply have to loop over our data iterator, and feed the inputs to the\n",
    "network and optimize.\n",
    "\n"
   ]
  },
  {
   "cell_type": "code",
   "execution_count": 11,
   "metadata": {
    "slideshow": {
     "slide_type": "subslide"
    }
   },
   "outputs": [
    {
     "name": "stdout",
     "output_type": "stream",
     "text": [
      "[1,  2000] loss: 2.238\n",
      "[1,  4000] loss: 1.873\n",
      "[1,  6000] loss: 1.703\n",
      "[1,  8000] loss: 1.582\n",
      "[1, 10000] loss: 1.505\n",
      "[1, 12000] loss: 1.474\n",
      "[2,  2000] loss: 1.392\n",
      "[2,  4000] loss: 1.365\n",
      "[2,  6000] loss: 1.333\n",
      "[2,  8000] loss: 1.331\n",
      "[2, 10000] loss: 1.296\n",
      "[2, 12000] loss: 1.284\n",
      "Finished Training\n"
     ]
    }
   ],
   "source": [
    "for epoch in range(2):  # loop over the dataset multiple times\n",
    "\n",
    "    running_loss = 0.0\n",
    "    for i, data in enumerate(trainloader):\n",
    "        # get the inputs\n",
    "        inputs, labels = data\n",
    "\n",
    "        # zero the parameter gradients\n",
    "        optimizer.zero_grad()\n",
    "\n",
    "        # forward + backward + optimize\n",
    "        outputs = net(inputs)\n",
    "        loss = criterion(outputs, labels)\n",
    "        loss.backward()\n",
    "        optimizer.step()\n",
    "\n",
    "        # print statistics\n",
    "        running_loss += loss.item()\n",
    "        if i % 2000 == 1999:    # print every 2000 mini-batches\n",
    "            print('[%d, %5d] loss: %.3f' %\n",
    "                  (epoch + 1, i + 1, running_loss / 2000))\n",
    "            running_loss = 0.0\n",
    "\n",
    "print('Finished Training')"
   ]
  },
  {
   "cell_type": "markdown",
   "metadata": {
    "slideshow": {
     "slide_type": "slide"
    }
   },
   "source": [
    "5. Test the network on the test data\n",
    "^^^^^^^^^^^^^^^^^^^^^^^^^^^^^^^^^^^^\n",
    "\n",
    "We have trained the network for 2 passes over the training dataset.\n",
    "But we need to check if the network has learnt anything at all.\n",
    "\n",
    "We will check this by predicting the class label that the neural network\n",
    "outputs, and checking it against the ground-truth. If the prediction is\n",
    "correct, we add the sample to the list of correct predictions.\n",
    "\n",
    "Okay, first step. Let us display an image from the test set to get familiar.\n",
    "\n"
   ]
  },
  {
   "cell_type": "code",
   "execution_count": 12,
   "metadata": {
    "slideshow": {
     "slide_type": "subslide"
    }
   },
   "outputs": [
    {
     "name": "stdout",
     "output_type": "stream",
     "text": [
      "GroundTruth:    cat  ship  ship plane\n"
     ]
    }
   ],
   "source": [
    "dataiter = iter(testloader)\n",
    "images, labels = dataiter.next()\n",
    "\n",
    "# print images\n",
    "imshow(torchvision.utils.make_grid(images))\n",
    "print('GroundTruth: ', ' '.join('%5s' % classes[labels[j]] for j in range(4)))"
   ]
  },
  {
   "cell_type": "markdown",
   "metadata": {
    "cell_style": "split",
    "slideshow": {
     "slide_type": "subslide"
    }
   },
   "source": [
    "Okay, now let us see what the neural network thinks these examples above are:\n",
    "\n"
   ]
  },
  {
   "cell_type": "code",
   "execution_count": 13,
   "metadata": {
    "cell_style": "split",
    "slideshow": {
     "slide_type": "fragment"
    }
   },
   "outputs": [],
   "source": [
    "outputs = net(images)"
   ]
  },
  {
   "cell_type": "markdown",
   "metadata": {
    "slideshow": {
     "slide_type": "subslide"
    }
   },
   "source": [
    "The outputs are energies for the 10 classes.\n",
    "Higher the energy for a class, the more the network\n",
    "thinks that the image is of the particular class.\n",
    "So, let's get the index of the highest energy:\n",
    "\n"
   ]
  },
  {
   "cell_type": "code",
   "execution_count": 14,
   "metadata": {
    "slideshow": {
     "slide_type": "fragment"
    }
   },
   "outputs": [
    {
     "name": "stdout",
     "output_type": "stream",
     "text": [
      "Predicted:    cat  ship plane  ship\n"
     ]
    }
   ],
   "source": [
    "_, predicted = torch.max(outputs, 1)\n",
    "\n",
    "print('Predicted: ', ' '.join('%5s' % classes[predicted[j]]\n",
    "                              for j in range(4)))"
   ]
  },
  {
   "cell_type": "markdown",
   "metadata": {
    "slideshow": {
     "slide_type": "subslide"
    }
   },
   "source": [
    "The results seem pretty good.\n",
    "\n",
    "Let us look at how the network performs on the whole dataset.\n",
    "\n"
   ]
  },
  {
   "cell_type": "code",
   "execution_count": 15,
   "metadata": {
    "slideshow": {
     "slide_type": "subslide"
    }
   },
   "outputs": [
    {
     "name": "stdout",
     "output_type": "stream",
     "text": [
      "Accuracy of the network on the 10000 test images: 51 %\n"
     ]
    }
   ],
   "source": [
    "correct = 0\n",
    "total = 0\n",
    "with torch.no_grad():\n",
    "    for data in testloader:\n",
    "        images, labels = data\n",
    "        outputs = net(images)\n",
    "        _, predicted = torch.max(outputs.data, 1)\n",
    "        total += labels.size(0)\n",
    "        correct += (predicted == labels).sum().item()\n",
    "\n",
    "print('Accuracy of the network on the 10000 test images: %d %%' % (\n",
    "    100 * correct / total))"
   ]
  },
  {
   "cell_type": "markdown",
   "metadata": {
    "slideshow": {
     "slide_type": "subslide"
    }
   },
   "source": [
    "That looks waaay better than chance, which is 10% accuracy (randomly picking\n",
    "a class out of 10 classes).\n",
    "Seems like the network learnt something.\n",
    "\n",
    "Hmmm, what are the classes that performed well, and the classes that did\n",
    "not perform well:\n",
    "\n"
   ]
  },
  {
   "cell_type": "code",
   "execution_count": 16,
   "metadata": {
    "slideshow": {
     "slide_type": "fragment"
    }
   },
   "outputs": [
    {
     "name": "stdout",
     "output_type": "stream",
     "text": [
      "Accuracy of plane : 49 %\n",
      "Accuracy of   car : 40 %\n",
      "Accuracy of  bird : 46 %\n",
      "Accuracy of   cat : 28 %\n",
      "Accuracy of  deer : 29 %\n",
      "Accuracy of   dog : 45 %\n",
      "Accuracy of  frog : 79 %\n",
      "Accuracy of horse : 42 %\n",
      "Accuracy of  ship : 75 %\n",
      "Accuracy of truck : 81 %\n"
     ]
    }
   ],
   "source": [
    "class_correct = list(0. for i in range(10))\n",
    "class_total = list(0. for i in range(10))\n",
    "with torch.no_grad():\n",
    "    for data in testloader:\n",
    "        images, labels = data\n",
    "        outputs = net(images)\n",
    "        _, predicted = torch.max(outputs, 1)\n",
    "        c = (predicted == labels).squeeze()\n",
    "        for i in range(4):\n",
    "            label = labels[i]\n",
    "            class_correct[label] += c[i].item()\n",
    "            class_total[label] += 1\n",
    "\n",
    "\n",
    "for i in range(10):\n",
    "    print('Accuracy of %5s : %2d %%' % (\n",
    "        classes[i], 100 * class_correct[i] / class_total[i]))"
   ]
  },
  {
   "cell_type": "markdown",
   "metadata": {
    "slideshow": {
     "slide_type": "subslide"
    }
   },
   "source": [
    "Okay, so what next?\n",
    "\n",
    "How do we run these neural networks on the GPU?"
   ]
  },
  {
   "cell_type": "markdown",
   "metadata": {
    "slideshow": {
     "slide_type": "slide"
    }
   },
   "source": [
    "Training on GPU\n",
    "----------------\n",
    "Just like how you transfer a Tensor on to the GPU, you transfer the neural\n",
    "net onto the GPU.\n",
    "\n",
    "Let's first define our device as the first visible cuda device if we have\n",
    "CUDA available:"
   ]
  },
  {
   "cell_type": "code",
   "execution_count": 17,
   "metadata": {
    "slideshow": {
     "slide_type": "subslide"
    }
   },
   "outputs": [
    {
     "name": "stdout",
     "output_type": "stream",
     "text": [
      "cuda:0\n"
     ]
    }
   ],
   "source": [
    "device = torch.device(\"cuda:0\" if torch.cuda.is_available() else \"cpu\")\n",
    "\n",
    "# Assume that we are on a CUDA machine, then this should print a CUDA device:\n",
    "\n",
    "print(device)"
   ]
  },
  {
   "cell_type": "markdown",
   "metadata": {
    "slideshow": {
     "slide_type": "subslide"
    }
   },
   "source": [
    "The rest of this section assumes that `device` is a CUDA device.\n",
    "\n",
    "Then these methods will recursively go over all modules and convert their\n",
    "parameters and buffers to CUDA tensors:\n",
    "\n",
    "```python\n",
    "\n",
    "    net.to(device)\n",
    "```"
   ]
  },
  {
   "cell_type": "markdown",
   "metadata": {
    "slideshow": {
     "slide_type": "subslide"
    }
   },
   "source": [
    "Remember that you will have to send the inputs and targets at every step\n",
    "to the GPU too:\n",
    "\n",
    "```python\n",
    "\n",
    "        inputs, labels = inputs.to(device), labels.to(device)\n",
    "```\n",
    "\n",
    "Why dont I notice MASSIVE speedup compared to CPU? Because your network\n",
    "is realllly small."
   ]
  },
  {
   "cell_type": "markdown",
   "metadata": {
    "slideshow": {
     "slide_type": "subslide"
    }
   },
   "source": [
    "**Exercise:** Try increasing the width of your network (argument 2 of\n",
    "the first ``nn.Conv2d``, and argument 1 of the second ``nn.Conv2d`` –\n",
    "they need to be the same number), see what kind of speedup you get.\n",
    "\n",
    "**Goals achieved**:\n",
    "\n",
    "- Understanding PyTorch's Tensor library and neural networks at a high level.\n",
    "- Train a small neural network to classify images"
   ]
  },
  {
   "cell_type": "markdown",
   "metadata": {
    "slideshow": {
     "slide_type": "subslide"
    }
   },
   "source": [
    "Training on multiple GPUs\n",
    "-------------------------\n",
    "If you want to see even more MASSIVE speedup using all of your GPUs,\n",
    "please check out :doc:`data_parallel_tutorial`.\n",
    "\n",
    "Where do I go next?\n",
    "-------------------\n",
    "\n",
    "-  :doc:`Train neural nets to play video games </intermediate/reinforcement_q_learning>`\n",
    "-  `Train a state-of-the-art ResNet network on imagenet`_\n",
    "-  `Train a face generator using Generative Adversarial Networks`_\n",
    "-  `Train a word-level language model using Recurrent LSTM networks`_\n",
    "-  `More examples`_\n",
    "-  `More tutorials`_\n",
    "-  `Discuss PyTorch on the Forums`_\n",
    "-  `Chat with other users on Slack`_"
   ]
  }
 ],
 "metadata": {
  "celltoolbar": "Slideshow",
  "kernelspec": {
   "display_name": "Python [conda env:pytorch]",
   "language": "python",
   "name": "conda-env-pytorch-py"
  },
  "language_info": {
   "codemirror_mode": {
    "name": "ipython",
    "version": 3
   },
   "file_extension": ".py",
   "mimetype": "text/x-python",
   "name": "python",
   "nbconvert_exporter": "python",
   "pygments_lexer": "ipython3",
   "version": "3.7.6"
  },
  "latex_envs": {
   "LaTeX_envs_menu_present": true,
   "autoclose": false,
   "autocomplete": true,
   "bibliofile": "biblio.bib",
   "cite_by": "apalike",
   "current_citInitial": 1,
   "eqLabelWithNumbers": true,
   "eqNumInitial": 1,
   "hotkeys": {
    "equation": "Ctrl-E",
    "itemize": "Ctrl-I"
   },
   "labels_anchors": false,
   "latex_user_defs": false,
   "report_style_numbering": false,
   "user_envs_cfg": false
  },
  "toc": {
   "base_numbering": 1,
   "nav_menu": {},
   "number_sections": true,
   "sideBar": true,
   "skip_h1_title": false,
   "title_cell": "Table of Contents",
   "title_sidebar": "Contents",
   "toc_cell": true,
   "toc_position": {},
   "toc_section_display": true,
   "toc_window_display": false
  },
  "varInspector": {
   "cols": {
    "lenName": 16,
    "lenType": 16,
    "lenVar": 40
   },
   "kernels_config": {
    "python": {
     "delete_cmd_postfix": "",
     "delete_cmd_prefix": "del ",
     "library": "var_list.py",
     "varRefreshCmd": "print(var_dic_list())"
    },
    "r": {
     "delete_cmd_postfix": ") ",
     "delete_cmd_prefix": "rm(",
     "library": "var_list.r",
     "varRefreshCmd": "cat(var_dic_list()) "
    }
   },
   "types_to_exclude": [
    "module",
    "function",
    "builtin_function_or_method",
    "instance",
    "_Feature"
   ],
   "window_display": false
  }
 },
 "nbformat": 4,
 "nbformat_minor": 1
}
