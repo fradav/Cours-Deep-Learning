{
 "cells": [
  {
   "cell_type": "markdown",
   "metadata": {
    "toc": true
   },
   "source": [
    "<h1>Table of Contents<span class=\"tocSkip\"></span></h1>\n",
    "<div class=\"toc\"><ul class=\"toc-item\"><li><span><a href=\"#Descente-de-Gradient-Stochastique\" data-toc-modified-id=\"Descente-de-Gradient-Stochastique-1\"><span class=\"toc-item-num\">1&nbsp;&nbsp;</span>Descente de Gradient Stochastique</a></span></li><li><span><a href=\"#Mini-batch\" data-toc-modified-id=\"Mini-batch-2\"><span class=\"toc-item-num\">2&nbsp;&nbsp;</span>Mini-batch</a></span></li></ul></div>"
   ]
  },
  {
   "cell_type": "markdown",
   "metadata": {
    "slideshow": {
     "slide_type": "slide"
    }
   },
   "source": [
    "Descente de Gradient Stochastique\n",
    "===========================\n",
    "\n",
    "La [Descente de Gradient Stochastique](http://en.wikipedia.org/wiki/Stochastic_gradient_descent) est une variante  [stochastique](http://en.wikipedia.org/wiki/Stochastic) de la descente de gradient, qui permet d'utiliser un algorithme efficace pour minimiser les fonctions de coût sous la forme d'une somme:\n",
    "\n",
    "$$\n",
    "  Q(\\mathbf{w}) = \\sum_{i=1}^{d} Q_i(\\mathbf{w}) \\; ,\n",
    "$$\n",
    "\n",
    "où $\\mathbf{w}$ est un vecteur de paramètres (ou poids) à optimiser. La composante $Q_i$ est la contribution du $i$ème échantillon au coût total $Q$, qui est ce que l'on cherche précisémment à minimiser en utilisantun ensemble d'entraînement de $d$ échantillons."
   ]
  },
  {
   "cell_type": "markdown",
   "metadata": {
    "slideshow": {
     "slide_type": "subslide"
    }
   },
   "source": [
    "En utilisant la descente de gradient standard, $Q$ peut être minimisée par l'itération suivante:\n",
    "\n",
    "$\\begin{eqnarray*}\n",
    "  \\mathbf{w}_{t+1} &=& \\mathbf{w}_t - \\eta \\nabla Q \\\\\n",
    "   &=& \\mathbf{w}_t - \\eta \\sum_{i=1}^{d} \\nabla Q_i(\\mathbf{w}_t) \\; ,\\\\\n",
    "  \\end{eqnarray*}$\n",
    "\n",
    "où $\\eta > 0$ est la taille du *pas*. Cette méthode d'itération par traitement de lots (*batch*) permet de calculer le coût total à chaque pas avec un temps de calcul qui est proportionnel à la taille $d$ de l'ensemble d'entraînement."
   ]
  },
  {
   "cell_type": "markdown",
   "metadata": {
    "slideshow": {
     "slide_type": "subslide"
    }
   },
   "source": [
    "De manière similaire, dans la descente de gradient stochastique, $Q$ est minimisée en utilisant\n",
    "\n",
    "$$\n",
    "  \\mathbf{w}_{t+1} = \\mathbf{w}_t - \\eta \\nabla Q_i (\\mathbf{w}_t) \\; ,\n",
    "$$\n",
    "\n",
    "en mettant à jour les poids $\\mathbf{w}$ à chaque itération en utilisant juste un échantillon $i$ choisi aléatoirement de l'ensemble d'entraînement. Ceci est extrêmement efficace pour les grandes tailles d'échantillons, parce que cela permet d'obtenir un temps de calcul de chaque itération indépendant de $d$. Un autre avantage est que cela permet de traiter les échantillons à la volée, comme  une tâche d'[apprentissage en ligne](http://en.wikipedia.org/wiki/Online_machine_learning)."
   ]
  },
  {
   "cell_type": "markdown",
   "metadata": {
    "cell_style": "split",
    "slideshow": {
     "slide_type": "slide"
    }
   },
   "source": [
    "En pratique, au lieu d'un $\\eta$ fixé, l'algorithme décroît la taille du pas  $\\eta_t$ pour améliorer la convergence.\n",
    "\n",
    "On va implémenter une version avec pas constant."
   ]
  },
  {
   "cell_type": "code",
   "execution_count": 1,
   "metadata": {
    "cell_style": "split",
    "slideshow": {
     "slide_type": "fragment"
    }
   },
   "outputs": [],
   "source": [
    "import torch\n",
    "import torch.utils.data\n",
    "import numpy as np"
   ]
  },
  {
   "cell_type": "markdown",
   "metadata": {
    "slideshow": {
     "slide_type": "slide"
    }
   },
   "source": [
    "Dans cette implémentation $Q_i$ a la forme\n",
    "\n",
    "\n",
    "\n",
    "$$Q_i(\\mathbf{w}) = \\left\\Vert \\mathbf{y}_i - f_{\\mathbf{w}} (\\mathbf{x}_i) \\right\\Vert \\; ,$$\n",
    "\n",
    "\n",
    "où $f_{\\mathbf{w}} : \\mathbb{R}^n \\to \\mathbb{R}^m$  est une fonction *modèle* pour notre jeu de données, paramétrisée par $\\mathbf{w}$; $\\mathbf{x}_i \\in \\mathbb{R}^n$ et $\\mathbf{y}_i \\in \\mathbb{R}^m$ sont la paire d'entrées/sorties pour l'$i$ème échantillon de l'ensemble d'apprentissage. Trouver les paramètres $\\mathbf{w}$ qui minimisent $Q(\\mathbf{w}) = \\sum_{i=1}^{d} Q_i (\\mathbf{w})$ et qui ajuste la fonction modèle $f_{\\mathbf{w}}$ à nos données.\n",
    "\n",
    "\n",
    "\n",
    "On va le tester grâce à l'[ajustement de courbe](http://en.wikipedia.org/wiki/Curve_fitting)(*curve fitting*) suivante :\n",
    "\n",
    "\n",
    "\n",
    "$$f_{\\mathbf{w}} (x) = w_1 x^2 + w_2 x + w_3$$"
   ]
  },
  {
   "cell_type": "code",
   "execution_count": 2,
   "metadata": {
    "slideshow": {
     "slide_type": "slide"
    }
   },
   "outputs": [],
   "source": [
    "def f(w,x):\n",
    "    return w[0] * x * x + w[1] * x + w[2]"
   ]
  },
  {
   "cell_type": "markdown",
   "metadata": {
    "slideshow": {
     "slide_type": "fragment"
    }
   },
   "source": [
    "Commençons par définir notre jeu de données"
   ]
  },
  {
   "cell_type": "code",
   "execution_count": 6,
   "metadata": {
    "slideshow": {
     "slide_type": "subslide"
    }
   },
   "outputs": [
    {
     "data": {
      "image/png": "[encoded data removed]",
      "text/plain": [
       "<Figure size 432x288 with 1 Axes>"
      ]
     },
     "metadata": {
      "needs_background": "light"
     },
     "output_type": "display_data"
    }
   ],
   "source": [
    "wt = [0.3,-1.7,2.5] # Ce sont les paramètres que l'on va essayer de retrouver\n",
    "xtrain = np.arange(-10,10,0.01,dtype='f')\n",
    "ytrain = (lambda x : f(wt,x))(xtrain)\n",
    "\n",
    "%matplotlib inline\n",
    "import matplotlib.pyplot as plt\n",
    "plt.plot(xtrain,ytrain);"
   ]
  },
  {
   "cell_type": "markdown",
   "metadata": {
    "cell_style": "center",
    "slideshow": {
     "slide_type": "slide"
    }
   },
   "source": [
    "Pour traiter notre ensemble d'entraînement il faut mettre ensemble entrées(*input*) et sorties(*target*), via la fonction `concatenate`."
   ]
  },
  {
   "cell_type": "code",
   "execution_count": 7,
   "metadata": {
    "cell_style": "center",
    "slideshow": {
     "slide_type": "fragment"
    }
   },
   "outputs": [
    {
     "data": {
      "text/plain": [
       "array([[-10.      ,  49.5     ],\n",
       "       [ -9.99    ,  49.423027],\n",
       "       [ -9.98    ,  49.346115],\n",
       "       ...,\n",
       "       [  9.970457,  15.373228],\n",
       "       [  9.980457,  15.416082],\n",
       "       [  9.990458,  15.458996]], dtype=float32)"
      ]
     },
     "execution_count": 7,
     "metadata": {},
     "output_type": "execute_result"
    }
   ],
   "source": [
    "xtrainnp = np.array([xtrain])\n",
    "ytrainnp = np.array([ytrain])\n",
    "dataTconcat = np.concatenate((xtrainnp,ytrainnp))\n",
    "points = np.transpose(dataTconcat)\n",
    "points"
   ]
  },
  {
   "cell_type": "markdown",
   "metadata": {
    "slideshow": {
     "slide_type": "subslide"
    }
   },
   "source": [
    "On initialise les paramètres $w$"
   ]
  },
  {
   "cell_type": "code",
   "execution_count": 4,
   "metadata": {
    "slideshow": {
     "slide_type": "fragment"
    }
   },
   "outputs": [],
   "source": [
    "w0 = torch.zeros(3,requires_grad=True)"
   ]
  },
  {
   "cell_type": "markdown",
   "metadata": {
    "slideshow": {
     "slide_type": "subslide"
    }
   },
   "source": [
    "Dans une première version de la *SGD* naïve, on va itérer sur tous les échantillons et incrémenter notre vecteur de poids sur chacun d'eux.\n",
    "\n",
    "On aura une fonction :\n",
    "```python\n",
    "def sgd(f,w,t,eta=0.00001, epsilon=0.001,nepoch=100):\n",
    "```\n",
    "où `eta` est la taille du pas, `epsilon` la limite de convergence du coût, et `nepoch` le nombre maximum de fois où l'on aura parcouru tous les échantillons."
   ]
  },
  {
   "cell_type": "markdown",
   "metadata": {
    "slideshow": {
     "slide_type": "subslide"
    }
   },
   "source": [
    "### Exercice 1\n",
    "\n",
    "Compléter le code ci-dessous pour faire une descente de gradient"
   ]
  },
  {
   "cell_type": "code",
   "execution_count": 8,
   "metadata": {
    "slideshow": {
     "slide_type": "fragment"
    }
   },
   "outputs": [],
   "source": [
    "# Installer tqdm et éventuellement ipywidgets\n",
    "# from tqdm import tqdm # Si pas ipywidgets\n",
    "from tqdm.notebook import tqdm \n",
    "\n",
    "def sgd(f,w,t,eta=0.0001, epsilon=0.01,nepoch=20):\n",
    "    bar = tqdm(total=nepoch) # \n",
    "    epoch = 0\n",
    "    x = t[:,0]\n",
    "    y = t[:,1]\n",
    "    while(epoch < nepoch):\n",
    "        loss = torch.mean(torch.pow(y-f(w,x),2))\n",
    "        loss.backward()\n",
    "        w.data.sub_(eta * w.grad)\n",
    "        w.grad.data.zero_()\n",
    "        bar.update() # Affichage\n",
    "        bar.set_description(\"loss %f\" % loss.item())\n",
    "        epoch += 1\n",
    "        if (loss.item() < epsilon):\n",
    "            print(\"convergence au bout de %i epochs.\" % epoch)\n",
    "            break"
   ]
  },
  {
   "cell_type": "code",
   "execution_count": 9,
   "metadata": {
    "scrolled": true,
    "slideshow": {
     "slide_type": "subslide"
    }
   },
   "outputs": [
    {
     "data": {
      "application/vnd.jupyter.widget-view+json": {
       "model_id": "175da98a3b344559bfcc18647cc18057",
       "version_major": 2,
       "version_minor": 0
      },
      "text/plain": [
       "HBox(children=(FloatProgress(value=0.0, max=10000.0), HTML(value='')))"
      ]
     },
     "metadata": {},
     "output_type": "display_data"
    },
    {
     "name": "stdout",
     "output_type": "stream",
     "text": [
      "convergence au bout de 9340 epochs.\n"
     ]
    }
   ],
   "source": [
    "w0 = torch.zeros(3,requires_grad=True)\n",
    "sgd(f,w0,torch.tensor(points),eta=0.0002,epsilon=0.1,nepoch=10000)"
   ]
  },
  {
   "cell_type": "markdown",
   "metadata": {
    "slideshow": {
     "slide_type": "subslide"
    }
   },
   "source": [
    "On vérifie que l'on s'est rapproché des paramètres du modèle."
   ]
  },
  {
   "cell_type": "code",
   "execution_count": 10,
   "metadata": {
    "slideshow": {
     "slide_type": "fragment"
    }
   },
   "outputs": [
    {
     "name": "stdout",
     "output_type": "stream",
     "text": [
      "[0.3, -1.7, 2.5]\n",
      "tensor([ 0.3079, -1.7000,  2.0258], requires_grad=True)\n"
     ]
    },
    {
     "data": {
      "text/plain": [
       "tensor(0.4743, grad_fn=<NormBackward0>)"
      ]
     },
     "execution_count": 10,
     "metadata": {},
     "output_type": "execute_result"
    }
   ],
   "source": [
    "print(wt)\n",
    "print(w0)\n",
    "torch.norm(torch.tensor(wt)-w0)"
   ]
  },
  {
   "cell_type": "markdown",
   "metadata": {
    "slideshow": {
     "slide_type": "subslide"
    }
   },
   "source": [
    "### Exercice 2\n",
    "\n",
    "Légère simplification, utiliser la fonction de coût toute faite `torch.nn.MSELoss()`\n",
    "```python\n",
    "criterion = torch.nn.MSELoss()\n",
    "```\n",
    "\n",
    "Ecrire la version du sgd avec cette fonction de coût \"prête à l'emploi\""
   ]
  },
  {
   "cell_type": "code",
   "execution_count": null,
   "metadata": {
    "slideshow": {
     "slide_type": "fragment"
    }
   },
   "outputs": [],
   "source": [
    "def sgd(f,w,t,eta=0.0001, epsilon=0.01,nepoch=20):\n",
    "    bar = tqdm(total=nepoch) # \n",
    "    epoch = 0\n",
    "    criterion = torch.nn.MSELoss()\n",
    "    x = t[:,0]\n",
    "    y = t[:,1]\n",
    "    while(epoch < nepoch):\n",
    "        loss = criterion(f(w,x),y)\n",
    "        loss.backward()\n",
    "        w.data.sub_(eta * w.grad)\n",
    "        w.grad.data.zero_()\n",
    "        bar.update() # Affichage\n",
    "        bar.set_description(\"loss %f\" % loss.item())\n",
    "        epoch += 1\n",
    "        if (loss.item() < epsilon):\n",
    "            print(\"convergence au bout de %i epochs.\" % epoch)\n",
    "            break"
   ]
  },
  {
   "cell_type": "code",
   "execution_count": null,
   "metadata": {
    "slideshow": {
     "slide_type": "subslide"
    }
   },
   "outputs": [],
   "source": [
    "w0 = torch.zeros(3,requires_grad=True)\n",
    "sgd(f,w0,torch.tensor(points),eta=0.0002,epsilon=0.1,nepoch=10000)"
   ]
  },
  {
   "cell_type": "markdown",
   "metadata": {
    "slideshow": {
     "slide_type": "slide"
    }
   },
   "source": [
    "# Mini-batch\n",
    "\n",
    "On va maintenant mettre en placer la vraie version *minibatch* du SGD.\n",
    "Pour ce faire, on utilise directement les facilités du [`DataLoader`](https://pytorch.org/docs/stable/data.html)  de `pytorch`, qui combine un jeu de données et un échantilloneur."
   ]
  },
  {
   "cell_type": "code",
   "execution_count": 11,
   "metadata": {
    "slideshow": {
     "slide_type": "subslide"
    }
   },
   "outputs": [],
   "source": [
    "trainloader = torch.utils.data.DataLoader(points,batch_size=10,shuffle=True)"
   ]
  },
  {
   "cell_type": "markdown",
   "metadata": {
    "slideshow": {
     "slide_type": "subslide"
    }
   },
   "source": [
    "### Exercice 3\n",
    "\n",
    "énumérer tous les éléments de chaque batch avec le print suivant"
   ]
  },
  {
   "cell_type": "code",
   "execution_count": null,
   "metadata": {
    "scrolled": true,
    "slideshow": {
     "slide_type": "fragment"
    }
   },
   "outputs": [],
   "source": [
    "# print(\"batch %i, échantillon %i : x = %f, y = %f\" % (i,j,x.item(),y.item()))"
   ]
  },
  {
   "cell_type": "markdown",
   "metadata": {
    "slideshow": {
     "slide_type": "subslide"
    }
   },
   "source": [
    "### Exercice 4\n",
    "\n",
    "Réécrire la descente de gradient version mini-batch en utilisant le `trainloader`.\n",
    "Attention pour le calcul du coût il faut maintenant cumuler sur tous les batch à chaque époque. Bien réfléchir à la bonne stratégie."
   ]
  },
  {
   "cell_type": "code",
   "execution_count": 12,
   "metadata": {
    "slideshow": {
     "slide_type": "subslide"
    }
   },
   "outputs": [],
   "source": [
    "def sgd(f,w,t,eta=0.0001, epsilon=0.01,nepoch=200,minibatch=10):\n",
    "    epoch = 0    \n",
    "    bar = tqdm(total=nepoch)\n",
    "    criterion = torch.nn.MSELoss()\n",
    "    trainloader = torch.utils.data.DataLoader(t,batch_size=minibatch,shuffle=True)\n",
    "    while(epoch < nepoch):\n",
    "        running_loss = 0.\n",
    "        for data in trainloader:\n",
    "            x , y = data[:,0],data[:,1]\n",
    "            loss = criterion(f(w,x),y)\n",
    "            loss.backward()\n",
    "            w.data.sub_(eta * w.grad)\n",
    "            w.grad.data.zero_()\n",
    "            running_loss = running_loss + loss.item() * len(data)\n",
    "        running_loss = running_loss / len(t)\n",
    "        bar.update()\n",
    "        bar.set_description(\"loss %f\" % running_loss)\n",
    "        epoch += 1\n",
    "        if (running_loss < epsilon):\n",
    "            print(\"convergence au bout de %i epochs.\" % epoch)\n",
    "            break"
   ]
  },
  {
   "cell_type": "code",
   "execution_count": 14,
   "metadata": {
    "slideshow": {
     "slide_type": "subslide"
    }
   },
   "outputs": [
    {
     "data": {
      "application/vnd.jupyter.widget-view+json": {
       "model_id": "dd95ce86157d453dad8286c4b304e4a2",
       "version_major": 2,
       "version_minor": 0
      },
      "text/plain": [
       "HBox(children=(FloatProgress(value=0.0, max=50.0), HTML(value='')))"
      ]
     },
     "metadata": {},
     "output_type": "display_data"
    },
    {
     "name": "stdout",
     "output_type": "stream",
     "text": [
      "convergence au bout de 48 epochs.\n"
     ]
    }
   ],
   "source": [
    "w0 = torch.zeros(3,requires_grad=True)\n",
    "sgd(f,w0,torch.tensor(points),eta=02,epsilon=0.1,nepoch=50)"
   ]
  },
  {
   "cell_type": "code",
   "execution_count": 15,
   "metadata": {
    "slideshow": {
     "slide_type": "fragment"
    }
   },
   "outputs": [
    {
     "name": "stdout",
     "output_type": "stream",
     "text": [
      "[0.3, -1.7, 2.5]\n",
      "tensor([ 0.3072, -1.7006,  2.0476], requires_grad=True)\n"
     ]
    },
    {
     "data": {
      "text/plain": [
       "tensor(0.4525, grad_fn=<NormBackward0>)"
      ]
     },
     "execution_count": 15,
     "metadata": {},
     "output_type": "execute_result"
    }
   ],
   "source": [
    "print(wt)\n",
    "print(w0)\n",
    "torch.norm(torch.tensor(wt)-w0)"
   ]
  },
  {
   "cell_type": "markdown",
   "metadata": {
    "slideshow": {
     "slide_type": "slide"
    }
   },
   "source": [
    "Maintenant il nous reste plus qu'à utiliser les optimiseurs de [`torch.optim`](https://pytorch.org/docs/stable/optim.html) comme `Adam`, `RMSProp` etc.\n",
    "\n",
    "il faut charger l'optimiseur avec les paramètres $w$\n",
    "```python\n",
    "optimizer = torch.optim.Adam([w], lr=lr)\n",
    "```\n",
    "\n",
    "Après chaque rétropropagation, on peut appeler `optimizer.step()`: cela mettra effecturea directement le \"pas\" de descente et remet à zéro les gradients, on n'a plus besoin de le faire."
   ]
  },
  {
   "cell_type": "markdown",
   "metadata": {
    "slideshow": {
     "slide_type": "subslide"
    }
   },
   "source": [
    "### Exercice 5\n",
    "\n",
    "Version du sgd avec l'optimiseur RMSprop."
   ]
  },
  {
   "cell_type": "code",
   "execution_count": 16,
   "metadata": {
    "slideshow": {
     "slide_type": "subslide"
    }
   },
   "outputs": [],
   "source": [
    "def sgd(f,w,t,lr=0.01, epsilon=0.01,nepoch=200,minibatch=10):\n",
    "    epoch = 0\n",
    "    bar = tqdm(total=nepoch)\n",
    "    optimizer = torch.optim.RMSprop([w], lr=lr)\n",
    "    trainloader = torch.utils.data.DataLoader(t,batch_size=minibatch,shuffle=True)\n",
    "    criterion = torch.nn.MSELoss()\n",
    "    while (epoch < nepoch):\n",
    "        running_loss = 0.0\n",
    "        for i, data in enumerate(trainloader):\n",
    "            optimizer.zero_grad()\n",
    "            x, y = data[:,0],data[:,1]\n",
    "            loss = criterion(f(w,x),y)\n",
    "            running_loss = running_loss + loss.item() * len(data)\n",
    "            loss.backward()\n",
    "            optimizer.step()\n",
    "        running_loss = running_loss / len(t)\n",
    "        bar.update()\n",
    "        bar.set_description(\"loss %f\" % running_loss)\n",
    "        epoch += 1\n",
    "        if (loss.item() < epsilon):\n",
    "            print(\"convergence au bout de %i itérations.\" % epoch)\n",
    "            break"
   ]
  },
  {
   "cell_type": "code",
   "execution_count": 19,
   "metadata": {
    "slideshow": {
     "slide_type": "subslide"
    }
   },
   "outputs": [
    {
     "data": {
      "application/vnd.jupyter.widget-view+json": {
       "model_id": "ac350a803e79458cb259ff63a9762f9a",
       "version_major": 2,
       "version_minor": 0
      },
      "text/plain": [
       "HBox(children=(FloatProgress(value=0.0, max=50.0), HTML(value='')))"
      ]
     },
     "metadata": {},
     "output_type": "display_data"
    },
    {
     "name": "stdout",
     "output_type": "stream",
     "text": [
      "convergence au bout de 23 itérations.\n"
     ]
    }
   ],
   "source": [
    "w0 = torch.zeros(3,requires_grad=True)\n",
    "sgd(f,w0,torch.tensor(points),epsilon=1e-7,nepoch=50)"
   ]
  },
  {
   "cell_type": "code",
   "execution_count": 20,
   "metadata": {
    "scrolled": true,
    "slideshow": {
     "slide_type": "fragment"
    }
   },
   "outputs": [
    {
     "name": "stdout",
     "output_type": "stream",
     "text": [
      "[0.3, -1.7, 2.5]\n",
      "tensor([ 0.3000, -1.7000,  2.4999], requires_grad=True)\n"
     ]
    },
    {
     "data": {
      "text/plain": [
       "tensor(0.0001, grad_fn=<NormBackward0>)"
      ]
     },
     "execution_count": 20,
     "metadata": {},
     "output_type": "execute_result"
    }
   ],
   "source": [
    "print(wt)\n",
    "print(w0)\n",
    "torch.norm(torch.tensor(wt)-w0)"
   ]
  },
  {
   "cell_type": "markdown",
   "metadata": {
    "slideshow": {
     "slide_type": "subslide"
    }
   },
   "source": [
    "### Exercice 6\n",
    "\n",
    "Réessayer les sgd avec l'option shuffle=False dans le trainloader. Que constatez-vous ? Quelle explication ?"
   ]
  },
  {
   "cell_type": "markdown",
   "metadata": {
    "slideshow": {
     "slide_type": "subslide"
    }
   },
   "source": [
    "### Exercice 7\n",
    "\n",
    "- Comparer dans la sgd la fonction de coût $L(X,Y)$ sur l'ensemble des points avec la somme des fonctions de coûts des batchs $\\sum{L(X_i,Y_i)}$ déj). Comment expliquer la différence ? Est-ce grave docteur ? (indice, penser à l'inégalité triangulaire)\n",
    "- Même question mais pour la norme du gradient."
   ]
  }
 ],
 "metadata": {
  "celltoolbar": "Slideshow",
  "kernelspec": {
   "display_name": "Python [conda env:pytorch]",
   "language": "python",
   "name": "conda-env-pytorch-py"
  },
  "language_info": {
   "codemirror_mode": {
    "name": "ipython",
    "version": 3
   },
   "file_extension": ".py",
   "mimetype": "text/x-python",
   "name": "python",
   "nbconvert_exporter": "python",
   "pygments_lexer": "ipython3",
   "version": "3.7.6"
  },
  "latex_envs": {
   "LaTeX_envs_menu_present": true,
   "autoclose": false,
   "autocomplete": false,
   "bibliofile": "biblio.bib",
   "cite_by": "apalike",
   "current_citInitial": 1,
   "eqLabelWithNumbers": true,
   "eqNumInitial": 1,
   "hotkeys": {
    "equation": "Ctrl-E",
    "itemize": "Ctrl-I"
   },
   "labels_anchors": true,
   "latex_user_defs": false,
   "report_style_numbering": true,
   "user_envs_cfg": false
  },
  "toc": {
   "base_numbering": 1,
   "nav_menu": {},
   "number_sections": true,
   "sideBar": true,
   "skip_h1_title": false,
   "title_cell": "Table of Contents",
   "title_sidebar": "Contents",
   "toc_cell": true,
   "toc_position": {},
   "toc_section_display": true,
   "toc_window_display": false
  },
  "varInspector": {
   "cols": {
    "lenName": 16,
    "lenType": 16,
    "lenVar": 40
   },
   "kernels_config": {
    "python": {
     "delete_cmd_postfix": "",
     "delete_cmd_prefix": "del ",
     "library": "var_list.py",
     "varRefreshCmd": "print(var_dic_list())"
    },
    "r": {
     "delete_cmd_postfix": ") ",
     "delete_cmd_prefix": "rm(",
     "library": "var_list.r",
     "varRefreshCmd": "cat(var_dic_list()) "
    }
   },
   "types_to_exclude": [
    "module",
    "function",
    "builtin_function_or_method",
    "instance",
    "_Feature"
   ],
   "window_display": false
  }
 },
 "nbformat": 4,
 "nbformat_minor": 2
}
